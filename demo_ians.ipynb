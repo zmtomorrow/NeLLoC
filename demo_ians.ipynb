{
 "cells": [
  {
   "cell_type": "markdown",
   "id": "c3c59e6c-bdd5-440e-9207-72a3c44d6e65",
   "metadata": {},
   "source": [
    "## NeLLoC (Interleaved ANS)\n",
    "\n",
    "We show the compression rate (BPD) and decompression speed (seconds) for SVHN and CIFAR dataset.\n",
    "\n",
    "All the results are tested on a single CPU (MacBook Air 2020)."
   ]
  },
  {
   "cell_type": "code",
   "execution_count": 1,
   "id": "31f022fa",
   "metadata": {},
   "outputs": [
    {
     "data": {
      "image/png": "[encoded data removed]",
      "text/plain": [
       "<Figure size 432x288 with 1 Axes>"
      ]
     },
     "metadata": {
      "needs_background": "light"
     },
     "output_type": "display_data"
    },
    {
     "data": {
      "image/png": "[encoded data removed]",
      "text/plain": [
       "<Figure size 432x288 with 1 Axes>"
      ]
     },
     "metadata": {
      "needs_background": "light"
     },
     "output_type": "display_data"
    }
   ],
   "source": [
    "import time\n",
    "import torch\n",
    "from model import *\n",
    "import matplotlib.pyplot as plt\n",
    "import torchvision\n",
    "from ians_coder import *\n",
    "import numpy as np\n",
    "from tqdm import tqdm\n",
    "from scipy.io import loadmat\n",
    "%matplotlib inline \n",
    "device=torch.device(\"cpu\")\n",
    "\n",
    "test_svhn=loadmat('../data/svhn/test_32x32.mat')['X']\n",
    "svhn_img=torch.tensor(test_svhn[:,:,:,0:10]).permute(3,2,0,1)\n",
    "plt.imshow(svhn_img[0].permute(1,2,0))\n",
    "plt.show()\n",
    "test_data=torchvision.datasets.CIFAR10('../data/', train=False, download=False)\n",
    "cifar_img=torch.tensor(test_data.data[:10,:,:,:]).permute(0,3,1,2)\n",
    "plt.imshow(cifar_img[0].permute(1,2,0))\n",
    "plt.show()\n",
    "\n",
    "def get_param_size(model):\n",
    "    total_params=sum(p.numel() for p in model.parameters())\n",
    "    return total_params*4/(1024**2)"
   ]
  },
  {
   "cell_type": "code",
   "execution_count": 2,
   "id": "aff41ba9-105e-4ee6-820e-dc5f9690133e",
   "metadata": {},
   "outputs": [],
   "source": [
    "def test(all_img,p_prec,k=7):\n",
    "    batch_size=10\n",
    "    img=all_img[0:batch_size]\n",
    "    start = time.time()\n",
    "    s,t_stack=cpu_ans_compression(net,img,32,32,k,p_prec=14)\n",
    "    end = time.time()\n",
    "    compression_time=end - start\n",
    "\n",
    "    BPD=get_length(s,t_stack)/batch_size\n",
    "\n",
    "    start = time.time()\n",
    "    decode_img=cpu_ans_decompression(net,s,t_stack,batch_size,32,32,k,p_prec=14)\n",
    "    end = time.time()\n",
    "    decompression_time=end - start\n",
    "    \n",
    "    if (img-decode_img).sum().item()>0.:\n",
    "        print('wrong')\n",
    "\n",
    "    print('average compression time', compression_time/batch_size)\n",
    "    print('average decompression time',decompression_time/batch_size)\n",
    "    print('average BPD', BPD)"
   ]
  },
  {
   "cell_type": "markdown",
   "id": "72ab6d42-601f-4123-93b4-9dfb315ce58b",
   "metadata": {},
   "source": [
    "### 0 ResNet Block"
   ]
  },
  {
   "cell_type": "code",
   "execution_count": 3,
   "id": "d4eca457-e08c-4e4e-9d81-306ad22fcb4a",
   "metadata": {},
   "outputs": [
    {
     "name": "stdout",
     "output_type": "stream",
     "text": [
      "parameter size: 0.4925689697265625 mb\n",
      "average compression time 0.32446258068084716\n",
      "average decompression time 0.32980101108551024\n",
      "average BPD 2.12236328125\n",
      "average compression time 0.327112078666687\n",
      "average decompression time 0.3421110868453979\n",
      "average BPD 3.591796875\n"
     ]
    }
   ],
   "source": [
    "net = LocalPixelCNN(res_num=0, in_kernel = 7, in_channels=3, channels=256, out_channels=100).to(device)\n",
    "net.load_state_dict(torch.load('./model_save/rs0_cifar_h3.pt',map_location=device))\n",
    "print('parameter size:',get_param_size(net),'mb')\n",
    "test(svhn_img,16)\n",
    "test(cifar_img,16)"
   ]
  },
  {
   "cell_type": "markdown",
   "id": "980d7882-ee14-4fc0-a14b-026c224fd10c",
   "metadata": {},
   "source": [
    "### 1 ResNet Block"
   ]
  },
  {
   "cell_type": "code",
   "execution_count": 4,
   "id": "8baaf961-d26d-4680-8474-9c01954aa98d",
   "metadata": {},
   "outputs": [
    {
     "name": "stdout",
     "output_type": "stream",
     "text": [
      "parameter size: 1.2454986572265625 mb\n",
      "average compression time 0.45639231204986574\n",
      "average decompression time 0.4869595766067505\n",
      "average BPD 2.0531575520833334\n",
      "average compression time 0.46939380168914796\n",
      "average decompression time 0.4974253177642822\n",
      "average BPD 3.486328125\n"
     ]
    }
   ],
   "source": [
    "net = LocalPixelCNN(res_num=1, in_kernel = 7, in_channels=3, channels=256, out_channels=100).to(device)\n",
    "net.load_state_dict(torch.load('./model_save/rs1_cifar_h3.pt',map_location=device))\n",
    "print('parameter size:',get_param_size(net),'mb')\n",
    "test(svhn_img,16)\n",
    "test(cifar_img,16)"
   ]
  },
  {
   "cell_type": "markdown",
   "id": "c44a095b-e20a-40d9-a131-6f8880200f35",
   "metadata": {},
   "source": [
    "### 3 ResNet Blocks\n"
   ]
  },
  {
   "cell_type": "code",
   "execution_count": 5,
   "id": "dd8c2b3e-148e-4aa3-910e-99605d21d15d",
   "metadata": {},
   "outputs": [
    {
     "name": "stdout",
     "output_type": "stream",
     "text": [
      "parameter size: 2.7513580322265625 mb\n",
      "average compression time 0.747858190536499\n",
      "average decompression time 0.770520806312561\n",
      "average BPD 2.0293294270833333\n",
      "average compression time 0.7552052974700928\n",
      "average decompression time 0.7918538808822632\n",
      "average BPD 3.4428059895833334\n"
     ]
    }
   ],
   "source": [
    "net = LocalPixelCNN(res_num=3, in_kernel = 7, in_channels=3, channels=256, out_channels=100).to(device)\n",
    "net.load_state_dict(torch.load('./model_save/rs3_cifar_h3.pt',map_location=device))\n",
    "print('parameter size:',get_param_size(net),'mb')\n",
    "test(svhn_img,16)\n",
    "test(cifar_img,16)"
   ]
  }
 ],
 "metadata": {
  "kernelspec": {
   "display_name": "Python 3",
   "language": "python",
   "name": "python3"
  },
  "language_info": {
   "codemirror_mode": {
    "name": "ipython",
    "version": 3
   },
   "file_extension": ".py",
   "mimetype": "text/x-python",
   "name": "python",
   "nbconvert_exporter": "python",
   "pygments_lexer": "ipython3",
   "version": "3.9.4"
  }
 },
 "nbformat": 4,
 "nbformat_minor": 5
}
