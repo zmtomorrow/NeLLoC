{
 "cells": [
  {
   "cell_type": "markdown",
   "id": "c3c59e6c-bdd5-440e-9207-72a3c44d6e65",
   "metadata": {},
   "source": [
    "## NeLLoC (Asymmetric Numeral Systems)"
   ]
  },
  {
   "cell_type": "code",
   "execution_count": 1,
   "id": "31f022fa",
   "metadata": {},
   "outputs": [
    {
     "data": {
      "image/png": "[encoded data removed]",
      "text/plain": [
       "<Figure size 432x288 with 1 Axes>"
      ]
     },
     "metadata": {
      "needs_background": "light"
     },
     "output_type": "display_data"
    }
   ],
   "source": [
    "import time\n",
    "import torch\n",
    "from model import *\n",
    "import matplotlib.pyplot as plt\n",
    "import torchvision\n",
    "from coder.ans_coder import *\n",
    "import numpy as np\n",
    "from tqdm import tqdm\n",
    "from scipy.io import loadmat\n",
    "%matplotlib inline \n",
    "device=torch.device(\"cpu\")\n",
    "\n",
    "\n",
    "test_data=torchvision.datasets.CIFAR10('../data/', train=False, download=False)\n",
    "cifar_img=torch.tensor(test_data.data[:10,:,:,:]).permute(0,3,1,2)\n",
    "plt.imshow(cifar_img[0].permute(1,2,0))\n",
    "plt.show()\n",
    "\n",
    "def get_param_size(model):\n",
    "    total_params=sum(p.numel() for p in model.parameters())\n",
    "    return total_params*4/(1024**2)"
   ]
  },
  {
   "cell_type": "code",
   "execution_count": 2,
   "id": "aff41ba9-105e-4ee6-820e-dc5f9690133e",
   "metadata": {},
   "outputs": [],
   "source": [
    "def test(all_img,p_prec,k=7):\n",
    "    BPD_list=[]\n",
    "    compression_time_list=[]\n",
    "    decompression_time_list=[]\n",
    "    for i in tqdm(range(0,all_img.size(0))):\n",
    "        img=all_img[i].unsqueeze(0)\n",
    "        start = time.time()\n",
    "        ans_stack=cpu_ans_compression(net,img,32,32,k,p_prec)\n",
    "        end = time.time()\n",
    "        compression_time_list.append(end - start)\n",
    "        \n",
    "        BPD_list.append(ans_stack.get_length()/(32*32*3))\n",
    "\n",
    "        start = time.time()\n",
    "        decode_img=cpu_ans_decompression(net,ans_stack,32,32,k,p_prec)\n",
    "        end = time.time()\n",
    "        decompression_time_list.append(end - start)\n",
    "        if (img-decode_img).sum().item()>0.:\n",
    "            print('wrong')\n",
    "\n",
    "    print('average compression time', np.mean(compression_time_list))\n",
    "    print('average decompression time',np.mean(decompression_time_list))\n",
    "    print('average BPD', np.mean(BPD_list))"
   ]
  },
  {
   "cell_type": "markdown",
   "id": "72ab6d42-601f-4123-93b4-9dfb315ce58b",
   "metadata": {},
   "source": [
    "### 0 ResNet Block"
   ]
  },
  {
   "cell_type": "code",
   "execution_count": 3,
   "id": "d4eca457-e08c-4e4e-9d81-306ad22fcb4a",
   "metadata": {},
   "outputs": [
    {
     "name": "stderr",
     "output_type": "stream",
     "text": [
      "  0%|          | 0/10 [00:00<?, ?it/s]"
     ]
    },
    {
     "name": "stdout",
     "output_type": "stream",
     "text": [
      "parameter size: 0.4925689697265625 mb\n"
     ]
    },
    {
     "name": "stderr",
     "output_type": "stream",
     "text": [
      "100%|██████████| 10/10 [00:15<00:00,  1.60s/it]"
     ]
    },
    {
     "name": "stdout",
     "output_type": "stream",
     "text": [
      "average compression time 0.812349820137024\n",
      "average decompression time 0.7857677698135376\n",
      "average BPD 3.5775065104166672\n"
     ]
    },
    {
     "name": "stderr",
     "output_type": "stream",
     "text": [
      "\n"
     ]
    }
   ],
   "source": [
    "net = LocalPixelCNN(res_num=0, in_kernel = 7, in_channels=3, channels=256, out_channels=100).to(device)\n",
    "net.load_state_dict(torch.load('./model_save/rs0_cifar_h3.pt',map_location=device))\n",
    "print('parameter size:',get_param_size(net),'mb')\n",
    "test(cifar_img,16)"
   ]
  },
  {
   "cell_type": "markdown",
   "id": "980d7882-ee14-4fc0-a14b-026c224fd10c",
   "metadata": {},
   "source": [
    "### 1 ResNet Block"
   ]
  },
  {
   "cell_type": "code",
   "execution_count": 4,
   "id": "8baaf961-d26d-4680-8474-9c01954aa98d",
   "metadata": {},
   "outputs": [
    {
     "name": "stderr",
     "output_type": "stream",
     "text": [
      "  0%|          | 0/10 [00:00<?, ?it/s]"
     ]
    },
    {
     "name": "stdout",
     "output_type": "stream",
     "text": [
      "parameter size: 1.2454986572265625 mb\n"
     ]
    },
    {
     "name": "stderr",
     "output_type": "stream",
     "text": [
      "100%|██████████| 10/10 [00:24<00:00,  2.47s/it]"
     ]
    },
    {
     "name": "stdout",
     "output_type": "stream",
     "text": [
      "average compression time 1.2213990211486816\n",
      "average decompression time 1.2432503700256348\n",
      "average BPD 3.47138671875\n"
     ]
    },
    {
     "name": "stderr",
     "output_type": "stream",
     "text": [
      "\n"
     ]
    }
   ],
   "source": [
    "net = LocalPixelCNN(res_num=1, in_kernel = 7, in_channels=3, channels=256, out_channels=100).to(device)\n",
    "net.load_state_dict(torch.load('./model_save/rs1_cifar_h3.pt',map_location=device))\n",
    "print('parameter size:',get_param_size(net),'mb')\n",
    "test(cifar_img,16)"
   ]
  },
  {
   "cell_type": "markdown",
   "id": "c44a095b-e20a-40d9-a131-6f8880200f35",
   "metadata": {},
   "source": [
    "### 3 ResNet Blocks\n"
   ]
  },
  {
   "cell_type": "code",
   "execution_count": 5,
   "id": "dd8c2b3e-148e-4aa3-910e-99605d21d15d",
   "metadata": {},
   "outputs": [
    {
     "name": "stderr",
     "output_type": "stream",
     "text": [
      "  0%|          | 0/10 [00:00<?, ?it/s]"
     ]
    },
    {
     "name": "stdout",
     "output_type": "stream",
     "text": [
      "parameter size: 2.7513580322265625 mb\n"
     ]
    },
    {
     "name": "stderr",
     "output_type": "stream",
     "text": [
      "100%|██████████| 10/10 [00:42<00:00,  4.30s/it]"
     ]
    },
    {
     "name": "stdout",
     "output_type": "stream",
     "text": [
      "average compression time 2.140776181221008\n",
      "average decompression time 2.1548584699630737\n",
      "average BPD 3.4286783854166663\n"
     ]
    },
    {
     "name": "stderr",
     "output_type": "stream",
     "text": [
      "\n"
     ]
    }
   ],
   "source": [
    "net = LocalPixelCNN(res_num=3, in_kernel = 7, in_channels=3, channels=256, out_channels=100).to(device)\n",
    "net.load_state_dict(torch.load('./model_save/rs3_cifar_h3.pt',map_location=device))\n",
    "print('parameter size:',get_param_size(net),'mb')\n",
    "test(cifar_img,16)"
   ]
  }
 ],
 "metadata": {
  "kernelspec": {
   "display_name": "Python 3",
   "language": "python",
   "name": "python3"
  },
  "language_info": {
   "codemirror_mode": {
    "name": "ipython",
    "version": 3
   },
   "file_extension": ".py",
   "mimetype": "text/x-python",
   "name": "python",
   "nbconvert_exporter": "python",
   "pygments_lexer": "ipython3",
   "version": "3.9.4"
  }
 },
 "nbformat": 4,
 "nbformat_minor": 5
}
